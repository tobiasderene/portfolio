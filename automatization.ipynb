{
 "cells": [
  {
   "cell_type": "markdown",
   "id": "ecbbc273-02c0-4be6-8083-30e0b2c34a80",
   "metadata": {},
   "source": [
    "# Server automatization"
   ]
  },
  {
   "cell_type": "markdown",
   "id": "8f568b95-b4b2-4531-ab73-e5ced357f114",
   "metadata": {},
   "source": [
    "The objective of this script is automate the backup for a Cisco server configuration, the way it works is simple, the script will ask the user ONE time the server IP, the SSH user, the SSH password and the repository where you want to put the backups.\n",
    "\n",
    "IMPORTANT\n",
    "This only works if the repository where the configuration will be write is a local repository"
   ]
  },
  {
   "cell_type": "code",
   "execution_count": null,
   "id": "3890503d-8ffd-44a4-83e2-2f73014945d4",
   "metadata": {},
   "outputs": [],
   "source": [
    "# Import the libraries \n",
    "from netmiko import ConnectHandler\n",
    "import time\n",
    "\n",
    "# Set the information needed\n",
    "ip = input(\"Enter the IP of the Switch you wish to access\")\n",
    "usuario = input(\"Enter your SSH username\")\n",
    "senha = input(\"Enter your SSH password\")\n",
    "ip_repo = input(\"Enter the IP of the repository where you want to put the information\")\n",
    "file_name = input('What name do you want the file to have?\\nIf you do not assign anything the default name will be: sw_today_date')\n",
    "\n",
    "while True:\n",
    "\n",
    "#Declarate the function\n",
    "def conexion(ip,usuario,senha,ip_repo,file_name):\n",
    "    device = {\n",
    "    'device_type': 'cisco_ios',  # Type of device (in this case, Cisco IOS)\n",
    "    'ip': ip,         # Switch IP address\n",
    "    'username': usuario,    # SSH Username\n",
    "    'password': senha, # SSH Password\n",
    "    }\n",
    "    \n",
    "    if file_name == '' : #if the file_name is null, the file name will be set as \"sw_date.txt\"  \n",
    "        file_name = f'sw_{time.strftime('%d%m%Y')}.txt'\n",
    "    else: #if not null the name will be set as \"name_date.txt\"\n",
    "        file_name = f'{file_name}_{time.strftime('%d%m%Y')}.txt'\n",
    "        \n",
    "    connection = ConnectHandler(**device) #Make the connections with Netmiko Connecthandler and create an object\n",
    "    connection.enable() #Start the connection\n",
    "    output = connection.send_command(f'copy startup-config tftp://${ip_repo}/${file_name}') # send the command needed to make a copy in a repository\n",
    "    \n",
    "    # write the output in a new file\n",
    "    with open(backup_filename, 'w') as backup_file: \n",
    "    backup_file.write(output)\n",
    "\n",
    "    print(f\"Configuration copied into '{backup_filename}'\")  # print where the configuration was copied\n",
    "    \n",
    "    connection.disconect() # End the connection\n",
    "    \n",
    "    print('The next backup will be done in one week.')  #Just an advice \n",
    "    \n",
    "    time.sleep(604800) #Set the time when the script will run again\n",
    "    \n",
    "    \n",
    "conexion(ip,usuario,senha,ip_repo,file_name) # Start the function\n",
    "    "
   ]
  },
  {
   "cell_type": "code",
   "execution_count": null,
   "id": "dade2a48-91ec-44a7-a979-ec8a7db0b139",
   "metadata": {},
   "outputs": [],
   "source": []
  }
 ],
 "metadata": {
  "kernelspec": {
   "display_name": "Python 3 (ipykernel)",
   "language": "python",
   "name": "python3"
  },
  "language_info": {
   "codemirror_mode": {
    "name": "ipython",
    "version": 3
   },
   "file_extension": ".py",
   "mimetype": "text/x-python",
   "name": "python",
   "nbconvert_exporter": "python",
   "pygments_lexer": "ipython3",
   "version": "3.9.12"
  }
 },
 "nbformat": 4,
 "nbformat_minor": 5
}
